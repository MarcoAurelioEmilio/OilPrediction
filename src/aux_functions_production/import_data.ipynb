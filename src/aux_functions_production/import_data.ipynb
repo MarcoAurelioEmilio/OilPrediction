{
 "cells": [
  {
   "cell_type": "code",
   "execution_count": 1,
   "metadata": {},
   "outputs": [],
   "source": [
    "import pandas as pd\n",
    "import os\n",
    "\n",
    "from datetime import datetime, timedelta\n"
   ]
  },
  {
   "cell_type": "code",
   "execution_count": 2,
   "metadata": {},
   "outputs": [
    {
     "name": "stdout",
     "output_type": "stream",
     "text": [
      "Arquivo 'Processed_JODI.csv' criado com sucesso em:\n",
      "../../data/processed\n",
      "\n",
      "Total de 837 registros exportados.\n"
     ]
    }
   ],
   "source": [
    "\n",
    "# --- 1. Definição dos Caminhos e Filtros ---\n",
    "\n",
    "# Caminhos para os arquivos de entrada\n",
    "caminho_primario = \"../../data/raw/NewProcedure_Primary_CSV.csv\"\n",
    "caminho_secundario = \"../../data/raw/NewProcedure_Secondary_CSV.csv\"\n",
    "\n",
    "# Caminho para o arquivo de saída\n",
    "diretorio_saida = \"../../data/processed\"\n",
    "caminho_saida = os.path.join(diretorio_saida, \"Processed_JODI.csv\")\n",
    "\n",
    "# Critérios de filtragem\n",
    "paises_filtro = ['US']\n",
    "produtos_filtro = ['CRUDEOIL', 'GASOLINE', 'GASDIES']\n",
    "fluxos_filtro = ['TOTDEMO', 'REFINOBS']\n",
    "UnitMeasure_filtro = ['KBD'] \n",
    "\n",
    "# Colunas desejadas para o arquivo final\n",
    "colunas_finais = [\n",
    "    \"REF_AREA\",\n",
    "    \"TIME_PERIOD\",\n",
    "    \"ENERGY_PRODUCT\",\n",
    "    \"FLOW_BREAKDOWN\",\n",
    "    \"UNIT_MEASURE\",\n",
    "    \"OBS_VALUE\",\n",
    "    \"ASSESSMENT_CODE\"\n",
    "]\n",
    "\n",
    "# --- 2. Processamento dos Dados ---\n",
    "\n",
    "try:\n",
    "    # Carregar os dois arquivos CSV\n",
    "    df_primario = pd.read_csv(caminho_primario)\n",
    "    df_secundario = pd.read_csv(caminho_secundario)\n",
    "\n",
    "    # Combinar os dois DataFrames\n",
    "    df_combinado = pd.concat([df_primario, df_secundario], ignore_index=True)\n",
    "\n",
    "    # Aplicar os filtros\n",
    "    df_filtrado = df_combinado[\n",
    "        (df_combinado['REF_AREA'].isin(paises_filtro)) &\n",
    "        (df_combinado['ENERGY_PRODUCT'].isin(produtos_filtro)) &\n",
    "        (df_combinado['FLOW_BREAKDOWN'].isin(fluxos_filtro)) &\n",
    "        (df_combinado['UNIT_MEASURE'].isin(UnitMeasure_filtro))\n",
    "    ]\n",
    "\n",
    "    # Selecionar apenas as colunas finais\n",
    "    df_final = df_filtrado[colunas_finais]\n",
    "\n",
    "    # --- 3. Exportação do Resultado ---\n",
    "\n",
    "    # Criar o diretório de saída se ele não existir\n",
    "    os.makedirs(diretorio_saida, exist_ok=True)\n",
    "\n",
    "    # Salvar o DataFrame final em um novo arquivo CSV\n",
    "    df_final.to_csv(caminho_saida, index=False, encoding='utf-8')\n",
    "\n",
    "    print(f\"Arquivo '{os.path.basename(caminho_saida)}' criado com sucesso em:\")\n",
    "    print(diretorio_saida)\n",
    "    print(f\"\\nTotal de {len(df_final)} registros exportados.\")\n",
    "\n",
    "except FileNotFoundError as e:\n",
    "    print(f\"Erro: Arquivo não encontrado. Verifique o caminho: {e.filename}\")\n",
    "except Exception as e:\n",
    "    print(f\"Ocorreu um erro inesperado: {e}\")"
   ]
  }
 ],
 "metadata": {
  "kernelspec": {
   "display_name": "DataScience2",
   "language": "python",
   "name": "python3"
  },
  "language_info": {
   "codemirror_mode": {
    "name": "ipython",
    "version": 3
   },
   "file_extension": ".py",
   "mimetype": "text/x-python",
   "name": "python",
   "nbconvert_exporter": "python",
   "pygments_lexer": "ipython3",
   "version": "3.10.18"
  }
 },
 "nbformat": 4,
 "nbformat_minor": 2
}
